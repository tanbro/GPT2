{
 "cells": [
  {
   "cell_type": "code",
   "execution_count": 8,
   "metadata": {},
   "outputs": [
    {
     "name": "stderr",
     "output_type": "stream",
     "text": [
      "I0827 17:40:23.810855 140275269187328 create_tfrecords.py:97] 输入文件：/home/Public/gpt2/data/wiki_zh.test.jsonl\n",
      "I0827 17:40:23.812085 140275269187328 create_tfrecords.py:101] 输出文件：/home/Public/gpt2/data/wiki_zh.test.tfrecords\n",
      "I0827 17:40:23.813757 140275269187328 create_tfrecords.py:109] 从文件 /home/Public/gpt2/models/hmzh.gpt_2_output-0.05-1.0-4096-102400.bpe/hmzh.gpt_2_output-0.05-1.0-4096-102400.model 加载 SentencePice BPE 模型\n"
     ]
    },
    {
     "data": {
      "application/vnd.jupyter.widget-view+json": {
       "model_id": "318998f535504093a2a50aa3879e65c5",
       "version_major": 2,
       "version_minor": 0
      },
      "text/plain": [
       "HBox(children=(IntProgress(value=1, bar_style='info', description='Counting of lines in wiki_zh.test.jsonl', m…"
      ]
     },
     "metadata": {},
     "output_type": "display_data"
    },
    {
     "name": "stdout",
     "output_type": "stream",
     "text": [
      "\n"
     ]
    },
    {
     "data": {
      "application/vnd.jupyter.widget-view+json": {
       "model_id": "14be68d36db94c4f8795cf93395131e1",
       "version_major": 2,
       "version_minor": 0
      },
      "text/plain": [
       "HBox(children=(IntProgress(value=0, description='Mapping  ', max=51640, style=ProgressStyle(description_width=…"
      ]
     },
     "metadata": {},
     "output_type": "display_data"
    },
    {
     "data": {
      "application/vnd.jupyter.widget-view+json": {
       "model_id": "0ebb1cf7ec8945a0aa164a31cc0cd149",
       "version_major": 2,
       "version_minor": 0
      },
      "text/plain": [
       "HBox(children=(IntProgress(value=0, description='Executing', max=51640, style=ProgressStyle(description_width=…"
      ]
     },
     "metadata": {},
     "output_type": "display_data"
    },
    {
     "name": "stdout",
     "output_type": "stream",
     "text": [
      "执行完毕! 耗时: 0:00:02.924109. 处理语料行数: 51640. 采样数: 51634\n"
     ]
    }
   ],
   "source": [
    "%run ../scripts/create_tfrecords.py \\\n",
    "    --bpe-model /home/Public/gpt2/models/hmzh.gpt_2_output-0.05-1.0-4096-102400.bpe/hmzh.gpt_2_output-0.05-1.0-4096-102400.model \\\n",
    "    --pool-chunk 500 \\\n",
    "    /home/Public/gpt2/data/wiki_zh.test.jsonl"
   ]
  },
  {
   "cell_type": "code",
   "execution_count": null,
   "metadata": {},
   "outputs": [],
   "source": []
  }
 ],
 "metadata": {
  "kernelspec": {
   "display_name": "Python [conda env:connorjl-gpt2]",
   "language": "python",
   "name": "conda-env-connorjl-gpt2-py"
  },
  "language_info": {
   "codemirror_mode": {
    "name": "ipython",
    "version": 3
   },
   "file_extension": ".py",
   "mimetype": "text/x-python",
   "name": "python",
   "nbconvert_exporter": "python",
   "pygments_lexer": "ipython3",
   "version": "3.6.7"
  }
 },
 "nbformat": 4,
 "nbformat_minor": 4
}
